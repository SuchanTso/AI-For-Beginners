{
 "cells": [
  {
   "cell_type": "markdown",
   "metadata": {},
   "source": [
    "# MNIST Digit Classification with our own Framework\n",
    "\n",
    "Lab Assignment from [AI for Beginners Curriculum](https://github.com/microsoft/ai-for-beginners).\n",
    "\n",
    "### Reading the Dataset\n",
    "\n",
    "This code download the dataset from the repository on the internet. You can also manually copy the dataset from `/data` directory of AI Curriculum repo."
   ]
  },
  {
   "cell_type": "code",
   "metadata": {
    "tags": [],
    "ExecuteTime": {
     "end_time": "2024-08-09T02:58:09.562119Z",
     "start_time": "2024-08-09T02:58:09.546527Z"
    }
   },
   "source": [
    "# !rm *.pkl\n",
    "# !wget https://raw.githubusercontent.com/microsoft/AI-For-Beginners/main/data/mnist.pkl.gz\n",
    "# !gzip -d mnist.pkl.gz"
   ],
   "outputs": [],
   "execution_count": 39
  },
  {
   "cell_type": "code",
   "metadata": {
    "ExecuteTime": {
     "end_time": "2024-08-09T02:58:10.115141Z",
     "start_time": "2024-08-09T02:58:09.564120Z"
    }
   },
   "source": [
    "import pickle\n",
    "\n",
    "%matplotlib nbagg\n",
    "import matplotlib.pyplot as plt \n",
    "from matplotlib import gridspec\n",
    "from sklearn.datasets import make_classification\n",
    "import numpy as np\n",
    "# pick the seed for reproducibility - change it to explore the effects of random variations\n",
    "np.random.seed(0)\n",
    "import random\n",
    "import gzip\n",
    "\n",
    "with gzip.open('../../03-Perceptron/lab/mnist.pkl.gz', 'rb') as mnist_pickle:\n",
    "    MNIST = pickle.load(mnist_pickle)\n",
    "    \n",
    "# with open('mnist.pkl','rb') as f:\n",
    "#     MNIST = pickle.load(f)"
   ],
   "outputs": [],
   "execution_count": 40
  },
  {
   "cell_type": "code",
   "metadata": {
    "ExecuteTime": {
     "end_time": "2024-08-09T02:58:10.545122Z",
     "start_time": "2024-08-09T02:58:10.140121Z"
    }
   },
   "source": [
    "labels = MNIST['Train']['Labels']\n",
    "data = MNIST['Train']['Features'].astype('float32') / 256.0"
   ],
   "outputs": [],
   "execution_count": 41
  },
  {
   "cell_type": "markdown",
   "metadata": {},
   "source": [
    "Let's see what is the shape of data that we have:"
   ]
  },
  {
   "cell_type": "code",
   "metadata": {
    "ExecuteTime": {
     "end_time": "2024-08-09T02:58:10.632123Z",
     "start_time": "2024-08-09T02:58:10.620125Z"
    }
   },
   "source": [
    "data.shape"
   ],
   "outputs": [
    {
     "data": {
      "text/plain": [
       "(42000, 784)"
      ]
     },
     "execution_count": 42,
     "metadata": {},
     "output_type": "execute_result"
    }
   ],
   "execution_count": 42
  },
  {
   "cell_type": "markdown",
   "metadata": {},
   "source": [
    "### Splitting the Data\n",
    "\n",
    "We will use Scikit Learn to split the data between training and test dataset:"
   ]
  },
  {
   "cell_type": "code",
   "metadata": {
    "ExecuteTime": {
     "end_time": "2024-08-09T02:58:10.724116Z",
     "start_time": "2024-08-09T02:58:10.638117Z"
    }
   },
   "source": [
    "from sklearn.model_selection import train_test_split\n",
    "\n",
    "features_train, features_test, labels_train, labels_test = train_test_split(data,labels,test_size=0.2)\n",
    "\n",
    "print(f\"Train samples: {len(features_train)}, test samples: {len(features_test)}\")\n",
    "print(f\"Train samples: {features_train.shape}, test samples: {len(features_test)}\")\n",
    "print(labels_train)"
   ],
   "outputs": [
    {
     "name": "stdout",
     "output_type": "stream",
     "text": [
      "Train samples: 33600, test samples: 8400\n",
      "Train samples: (33600, 784), test samples: 8400\n",
      "[6 6 4 ... 9 0 9]\n"
     ]
    }
   ],
   "execution_count": 43
  },
  {
   "cell_type": "markdown",
   "metadata": {},
   "source": [
    "\n",
    "### Instructions\n",
    "\n",
    "1. Take the framework code from the lesson and paste it into this notebook, or (even better) into a separate Python module\n",
    "1. Define and train one-layered perceptron, observing training and validation accuracy during training\n",
    "1. Try to understand if overfitting took place, and adjust layer parameters to improve accuracy\n",
    "1. Repeat previous steps for 2- and 3-layered perceptrons. Try to experiment with different activation functions between layers.\n",
    "1. Try to answer the following questions:\n",
    "    - Does the inter-layer activation function affect network performance?\n",
    "    - Do we need 2- or 3-layered network for this task?\n",
    "    - Did you experience any problems training the network? Especially as the number of layers increased.\n",
    "    - How do weights of the network behave during training? You may plot max abs value of weights vs. epoch to understand the relation."
   ]
  },
  {
   "metadata": {
    "ExecuteTime": {
     "end_time": "2024-08-09T02:58:10.754123Z",
     "start_time": "2024-08-09T02:58:10.726121Z"
    }
   },
   "cell_type": "code",
   "source": [
    "def train_and_plot(n_epoch, net,train_x , train_labels , test_x , test_labels , loss, batch_size=4, lr=0.1):\n",
    "    fig, ax = plt.subplots(2, 1)\n",
    "    ax[0].set_xlim(0, n_epoch + 1)\n",
    "    ax[0].set_ylim(0, 1)\n",
    "\n",
    "    train_acc = np.empty((n_epoch, 3))\n",
    "    train_acc[:] = np.NAN\n",
    "    valid_acc = np.empty((n_epoch, 3))\n",
    "    valid_acc[:] = np.NAN\n",
    "\n",
    "    for epoch in range(1, n_epoch + 1):\n",
    "        train_epoch(net, train_x, train_labels, loss, batch_size, lr)\n",
    "        tloss, taccuracy = get_loss_acc(net,train_x, train_labels, loss)\n",
    "        #def get_loss_acc(net , x,y,loss):\n",
    "        train_acc[epoch - 1, :] = [epoch, tloss, taccuracy]\n",
    "        vloss, vaccuracy = get_loss_acc(net,test_x, test_labels, loss)\n",
    "        valid_acc[epoch - 1, :] = [epoch, vloss, vaccuracy]\n",
    "\n",
    "        ax[0].set_ylim(0, max(max(train_acc[:, 2]), max(valid_acc[:, 2])) * 1.1)\n",
    "\n",
    "        plot_training_progress(train_acc[:, 0], (train_acc[:, 2],\n",
    "                                                 valid_acc[:, 2]), fig, ax[0])\n",
    "        plot_decision_boundary(net, fig, ax[1] , train_x , train_labels , test_x , test_labels)\n",
    "        fig.canvas.draw()\n",
    "        fig.canvas.flush_events()\n",
    "\n",
    "    return train_acc, valid_acc\n",
    "\n",
    "\n",
    "import matplotlib.cm as cm\n",
    "\n",
    "\n",
    "def plot_decision_boundary(net, fig, ax , train_x , train_labels , test_x , test_labels):\n",
    "    draw_colorbar = True\n",
    "    # remove previous plot\n",
    "    while ax.collections:\n",
    "        ax.collections.pop()\n",
    "        draw_colorbar = False\n",
    "\n",
    "    # generate countour grid\n",
    "    x_min, x_max = train_x[:, 0].min() - 1, train_x[:, 0].max() + 1\n",
    "    y_min, y_max = train_x[:, 1].min() - 1, train_x[:, 1].max() + 1\n",
    "    xx, yy = np.meshgrid(np.arange(x_min, x_max, 0.1),\n",
    "                         np.arange(y_min, y_max, 0.1))\n",
    "    grid_points = np.c_[xx.ravel().astype('float32'), yy.ravel().astype('float32')]\n",
    "    n_classes = max(train_labels) + 1\n",
    "    while train_x.shape[1] > grid_points.shape[1]:\n",
    "        # pad dimensions (plot only the first two)\n",
    "        grid_points = np.c_[grid_points,\n",
    "        np.empty(len(xx.ravel())).astype('float32')]\n",
    "        grid_points[:, -1].fill(train_x[:, grid_points.shape[1] - 1].mean())\n",
    "\n",
    "    # evaluate predictions\n",
    "    prediction = np.array(net.forward(grid_points))\n",
    "    # for two classes: prediction difference\n",
    "    if (n_classes == 2):\n",
    "        Z = np.array([0.5 + (p[0] - p[1]) / 2.0 for p in prediction]).reshape(xx.shape)\n",
    "    else:\n",
    "        Z = np.array([p.argsort()[-1] / float(n_classes - 1) for p in prediction]).reshape(xx.shape)\n",
    "\n",
    "    # draw contour\n",
    "    levels = np.linspace(0, 1, 40)\n",
    "    cs = ax.contourf(xx, yy, Z, alpha=0.4, levels=levels)\n",
    "    if draw_colorbar:\n",
    "        fig.colorbar(cs, ax=ax, ticks=[0, 0.5, 1])\n",
    "    c_map = [cm.jet(x) for x in np.linspace(0.0, 1.0, n_classes)]\n",
    "    colors = [c_map[l] for l in train_labels]\n",
    "    ax.scatter(train_x[:, 0], train_x[:, 1], marker='o', c=colors, s=60, alpha=0.5)\n",
    "\n",
    "\n",
    "def plot_training_progress(x, y_data, fig, ax):\n",
    "    styles = ['k--', 'g-']\n",
    "    # remove previous plot\n",
    "    while ax.lines:\n",
    "        ax.lines.pop()\n",
    "    # draw updated lines\n",
    "    for i in range(len(y_data)):\n",
    "        ax.plot(x, y_data[i], styles[i])\n",
    "    ax.legend(ax.lines, ['training accuracy', 'validation accuracy'],\n",
    "              loc='upper center', ncol=2)"
   ],
   "outputs": [],
   "execution_count": 44
  },
  {
   "cell_type": "code",
   "metadata": {
    "ExecuteTime": {
     "end_time": "2024-08-09T02:59:06.757151Z",
     "start_time": "2024-08-09T02:59:04.261152Z"
    }
   },
   "source": [
    "\n",
    "class Linear:\n",
    "    def __init__(self,nin,nout):\n",
    "        self.W = np.random.normal(0, 1.0/np.sqrt(nin), (nout, nin))\n",
    "        self.b = np.zeros((1,nout))\n",
    "        self.dW = np.zeros_like(self.W)\n",
    "        self.db = np.zeros_like(self.b)\n",
    "        \n",
    "    def forward(self, x):\n",
    "        self.x=x\n",
    "        return np.dot(x, self.W.T) + self.b\n",
    "    \n",
    "    def backward(self, dz):\n",
    "        dx = np.dot(dz, self.W)\n",
    "        dW = np.dot(dz.T, self.x)\n",
    "        db = dz.sum(axis=0)\n",
    "        self.dW = dW\n",
    "        self.db = db\n",
    "        return dx\n",
    "    \n",
    "    def update(self,lr):\n",
    "        self.W -= lr*self.dW\n",
    "        self.b -= lr*self.db\n",
    "\n",
    "class Tanh:\n",
    "    def forward(self,x):\n",
    "        y = np.tanh(x)\n",
    "        self.y = y\n",
    "        return y\n",
    "    def backward(self,dy):\n",
    "        return (1.0-self.y**2)*dy\n",
    "\n",
    "class Softmax:\n",
    "    def forward(self,z):\n",
    "        self.z = z\n",
    "        zmax = z.max(axis=1,keepdims=True)\n",
    "        expz = np.exp(z - zmax)\n",
    "        Z = expz.sum(axis=1,keepdims=True)\n",
    "        return expz / Z\n",
    "    def backward(self,dp):\n",
    "        p = self.forward(self.z)\n",
    "        pdp = p * dp\n",
    "        return pdp - p * pdp.sum(axis=1, keepdims=True)\n",
    "    \n",
    "class CrossEntropyLoss:\n",
    "    def forward(self,p,y):\n",
    "        self.p = p\n",
    "        self.y = y\n",
    "        epsilon = 1e-7\n",
    "        p_of_y = p[np.arange(len(y)), y]\n",
    "        p_of_y = np.maximum(epsilon, p_of_y)\n",
    "        log_prob = np.log(p_of_y )\n",
    "        return -log_prob.mean()\n",
    "    def backward(self,loss):\n",
    "        dlog_softmax = np.zeros_like(self.p)\n",
    "        dlog_softmax[np.arange(len(self.y)), self.y] -= 1.0/len(self.y)\n",
    "        return dlog_softmax / self.p\n",
    "\n",
    "\n",
    "class Net:\n",
    "    def __init__(self):\n",
    "        self.layers = []\n",
    "    \n",
    "    def add(self,l):\n",
    "        self.layers.append(l)\n",
    "        \n",
    "    def forward(self,x):\n",
    "        for l in self.layers:\n",
    "            x = l.forward(x)\n",
    "        return x\n",
    "    \n",
    "    def backward(self,z):\n",
    "        for l in self.layers[::-1]:\n",
    "            z = l.backward(z)\n",
    "        return z\n",
    "    \n",
    "    def update(self,lr):\n",
    "        for l in self.layers:\n",
    "            if 'update' in l.__dir__():\n",
    "                l.update(lr)\n",
    "                \n",
    "\n",
    "\n",
    "def get_loss_acc(net , x,y,loss):\n",
    "    p = net.forward(x)\n",
    "    l = loss.forward(p,y)\n",
    "    pred = np.argmax(p,axis=1)\n",
    "    acc = (pred==y).mean()\n",
    "    return l,acc\n",
    "\n",
    "# print(\"Initial loss={}, accuracy={}: \".format(*get_loss_acc(train_x,train_labels)))\n",
    "\n",
    "def train_epoch(net, train_x, train_labels, loss=CrossEntropyLoss(), batch_size=4, lr=0.1):\n",
    "    for i in range(0,len(train_x),batch_size):\n",
    "        xb = train_x[i:i+batch_size]\n",
    "        yb = train_labels[i:i+batch_size]\n",
    "        p = net.forward(xb)\n",
    "        l = loss.forward(p,yb)\n",
    "        dp = loss.backward(l)\n",
    "        dx = net.backward(dp)\n",
    "        net.update(lr)    \n",
    "                \n",
    "nnet = Net()\n",
    "nnet.add(Linear(784,10))\n",
    "nnet.add(Tanh())\n",
    "nnet.add(Linear(10,10))\n",
    "nnet.add(Tanh())\n",
    "nnet.add(Linear(10,10))\n",
    "nnet.add(Softmax())\n",
    "cross_loss = CrossEntropyLoss()\n",
    "print(\"Initial loss={}, accuracy={}: \".format(*get_loss_acc(nnet , features_train,labels_train,cross_loss)))\n",
    "train_epoch(nnet, features_train, labels_train , cross_loss )\n",
    "print(\"Final loss={}, accuracy={}: \".format(*get_loss_acc(nnet , features_train,labels_train,cross_loss)))\n",
    "print(\"Test loss={}, accuracy={}: \".format(*get_loss_acc(nnet , features_test,labels_test,cross_loss)))\n"
   ],
   "outputs": [
    {
     "name": "stdout",
     "output_type": "stream",
     "text": [
      "Initial loss=2.38302679099452, accuracy=0.1044047619047619: \n",
      "Final loss=0.4124141341208442, accuracy=0.8851785714285715: \n",
      "Test loss=0.4284796857876896, accuracy=0.8821428571428571: \n"
     ]
    }
   ],
   "execution_count": 47
  },
  {
   "metadata": {
    "ExecuteTime": {
     "end_time": "2024-08-09T02:58:12.519117Z",
     "start_time": "2024-08-09T02:58:12.504118Z"
    }
   },
   "cell_type": "code",
   "source": "",
   "outputs": [],
   "execution_count": 45
  }
 ],
 "metadata": {
  "kernelspec": {
   "display_name": "Python 3 (ipykernel)",
   "metadata": {
    "interpreter": {
     "hash": "86193a1ab0ba47eac1c69c1756090baa3b420b3eea7d4aafab8b85f8b312f0c5"
    }
   },
   "name": "python3",
   "language": "python"
  },
  "language_info": {
   "codemirror_mode": {
    "name": "ipython",
    "version": 3
   },
   "file_extension": ".py",
   "mimetype": "text/x-python",
   "name": "python",
   "nbconvert_exporter": "python",
   "pygments_lexer": "ipython3",
   "version": "3.9.5"
  },
  "orig_nbformat": 2
 },
 "nbformat": 4,
 "nbformat_minor": 2
}
